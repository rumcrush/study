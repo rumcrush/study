{
  "nbformat": 4,
  "nbformat_minor": 0,
  "metadata": {
    "colab": {
      "name": "파이썬_정규표현식.ipynb",
      "provenance": [],
      "authorship_tag": "ABX9TyMDm2ZnfxoXFOr88NnTWd/g",
      "include_colab_link": true
    },
    "kernelspec": {
      "name": "python3",
      "display_name": "Python 3"
    },
    "language_info": {
      "name": "python"
    }
  },
  "cells": [
    {
      "cell_type": "markdown",
      "metadata": {
        "id": "view-in-github",
        "colab_type": "text"
      },
      "source": [
        "<a href=\"https://colab.research.google.com/github/rumcrush/study/blob/master/%ED%8C%8C%EC%9D%B4%EC%8D%AC_%EC%A0%95%EA%B7%9C%ED%91%9C%ED%98%84%EC%8B%9D.ipynb\" target=\"_parent\"><img src=\"https://colab.research.google.com/assets/colab-badge.svg\" alt=\"Open In Colab\"/></a>"
      ]
    },
    {
      "cell_type": "markdown",
      "source": [
        "# 기본개념 \n",
        "* 메타문자 : 원래 그 문자가 가진 뜻이 아닌 특별한 용도로 사용하는 문자 \n",
        "예) . ^ $ * + ? { } [ ] \\ | ( )\n",
        "* 문자 클래스 [       ] \n",
        "\n",
        "* 문자 클래스로 만들어진 정규식은 **[     ] 사이의 문자들과 매치** 라는 의미를 가짐\n",
        "* 문자 클래스를 만드는 메타문자인 [      ] 사이에는 어떤 문자도 들어갈 수 있다 \n",
        "\n",
        "\n",
        "예) 정규표현식이 [a,b,c]일 경우 a,b,c 중 한개의 문자와 매치를 의미\n",
        "\n",
        "> 문자열 \"a\", \"before\", \"dude\"가 정규식 [a,b,c]와 어떻게 매칭되는가\n",
        "* \"a\"는 정규식과 일치하는 문자는 \"a\"가 있으므로 매치 \n",
        "* \"before\"는 정규식과 일치하는 문자인 \"b\"가 있으므로 매치 \n",
        "* \"dude\"는 정규식과 일치하는 문자인 a,b,c와 매치하는 문자가 없으므로 매치가 안 됨\n",
        "\n"
      ],
      "metadata": {
        "id": "-thvFGXZjarC"
      }
    },
    {
      "cell_type": "markdown",
      "source": [
        "* [     ] 안의 두 문자 사이에 하이픈 (-)을 사용하면 두 문자 사이의 범위를 의미 \n",
        "\n",
        "> 예1) [a-c]와 [abc]는 같다\n",
        "\n",
        "> 예2) [0-5]와 [012345]는 같다\n",
        "\n",
        "> 예3) [a-zA-Z] : 소문자와 대문자 전체 알파벳\n",
        "\n",
        "> 예4) [0-9] : 0-9까지 숫자를 의미"
      ],
      "metadata": {
        "id": "BYzcDOQAk_Hp"
      }
    },
    {
      "cell_type": "markdown",
      "source": [
        "# 자주 사용하는 문자 클래스 \n",
        "\n",
        "* [0-9]\n",
        "\n",
        "* [a-zA-Z]\n",
        "\n",
        "* [가-힇]\n",
        "\n",
        "* \\d : 숫자와 매치. [0-9]와 동일하다 \n",
        "\n",
        "* \\D : 숫자가 아닌 것과 매치. [^0-9]와 동일하다 \n",
        "\n",
        "* \\s : whitespace 문자와 매치. [    \\t\\n\\r\\f\\v]와 동일하다. 맨 앞 빈칸은 공백을 의미\n",
        "\n",
        "* \\S : whitespace 문자가 아닌 것과 매치. [^    \\t\\n\\r\\f\\v]와 동일\n",
        "\n",
        "* \\w : 문자 + 숫자와 매치. [a-zA-Z0-9_]와 동일하다\n",
        "\n",
        "* \\W : 문자 + 숫자가 아닌 문자와 매치 [^a-zA-Z0-9_]와 동일하다\n"
      ],
      "metadata": {
        "id": "tmJrFopxqKIx"
      }
    },
    {
      "cell_type": "markdown",
      "source": [
        "# Dot \n",
        "### 줄바꿈 문자인 \\n을 제외한 모든 문자와 매치됨 \n",
        "\n",
        "예) a.b \n",
        "\n",
        "a와 b라는 문자 사이에 어떤 문자가 들어와도 모두 매치된다 \n",
        "\n",
        "\"aab\" : 일치함 \n",
        "\n",
        "\"a0b\" : 일치함 \n",
        "\n",
        "\"abb\" : 일치 안 함. 사유 -> a와 b사이에 다른 문자가 있어야 하는데 없어서"
      ],
      "metadata": {
        "id": "WQnlUND5t4lq"
      }
    },
    {
      "cell_type": "markdown",
      "source": [
        "# 반복 : *, + \n",
        "\n",
        "*표시는 *바로 앞에 있는 문자 a가 0부터 무한대로 반복될 수 있음\n",
        "+표시는 최소 1번 이상 반복될 때 사용.\n",
        "\n",
        "## * 케이스\n",
        "ca*t / ct  -> a가 0번 반복되어 매치됨 \n",
        "\n",
        "ca*t / cat -> a가 0번 이상 반복되어 매치됨(1번 반복) \n",
        "\n",
        "ca*t / caaat -> a가 3번 이상 반복되어 매치됨(3번 반복) \n",
        "\n",
        "## + 케이스\n",
        "\n",
        "ca+t / ct  -> a가 0번 반복되어 매치 안 됨\n",
        "\n",
        "ca+t / cat -> a가 0번 이상 반복되어 매치됨(1번 반복) \n",
        "\n",
        "ca+t / caaat -> a가 3번 이상 반복되어 매치됨(3번 반복) \n",
        "\n",
        "# 반복 횟수 제한 \n",
        "\n",
        "### 1. {반드시 반복되어야 하는 숫자} \n",
        "{} 안에 있는 숫자가 반드시 그 횟수만큼 반복되어야 한다\n",
        "\n",
        "예1) ca{2}t / cat -> a가 2번 반복 되어야 하기 때문에 매치 안 됨 \n",
        "\n",
        "예2) ca{2}t / caat -> 매치 됨 \n",
        "\n",
        "## 2. {반복 시작 횟수 지정}\n",
        "예1) ca{2,5}t / cat -> 매치 안 됨. a가 한번만 반복되었기 때문 \n",
        "\n",
        "예2) ca{2,5}t / caat -> 매치됨. a가 2번 반복 되었기 때문\n",
        "\n",
        "예3) ca{2,5}t / caaaat -> 매치됨. a가 5번 반복되었기 때문 \n",
        "\n",
        "\n",
        "## 3. ? \n",
        "? 는 {0,1}을 의미한다 \n",
        "\n",
        "ab?c : a+b{이 사이에 값이 있어도 되고 없어도 된다}c\n",
        "\n",
        "예1) ab?c / abc -> b가 1번 사용되어서 매치됨 \n",
        "\n",
        "예2) ab?c / ac -> b가 0번 사용되어서 매치됨"
      ],
      "metadata": {
        "id": "ojGMKElA0DAl"
      }
    },
    {
      "cell_type": "code",
      "source": [
        "#파이썬에서 정규표현식을 지원하는 re 모듈 \n",
        "\n",
        "import re \n",
        "\n",
        "#ab*를 컴파일 한다\n",
        "\n",
        "p = re.compile('ab*')\n",
        "\n"
      ],
      "metadata": {
        "id": "NamdSNo0tuwq"
      },
      "execution_count": 19,
      "outputs": []
    },
    {
      "cell_type": "markdown",
      "source": [
        "# 정규식을 이용한 문자열 검색 \n",
        "\n",
        "컴파일된 패턴 객체를 사용하여 문자열 검색하기 \n",
        "\n",
        "컴패일된 패턴 객체는 다음과 같은 4가지 매서드를 제공한다 \n",
        "\n",
        "> 패턴 : 정규식을 컴파일 한 결과 \n",
        "\n",
        "- ### Metod : 목적 \n",
        "- ### match() : 문자열의 처음부터 정규식과 매치되는지 조사한다 \n",
        "- ### search() : 문자열 전체를 검색하여 정규식과 매치되는지 조사한다 \n",
        "- ### findall() : 정규식과 매치되는 모든 문자열을 리스트로 돌려준다 \n",
        "- ### finditer() : 정규식과 매치되는 모든 문자열을 반복가능한 객체로 돌려준다"
      ],
      "metadata": {
        "id": "6JGVo-bv5OoH"
      }
    },
    {
      "cell_type": "code",
      "source": [
        "# 패턴 만들기 \n",
        "\n",
        "import re \n",
        "p = re.compile('[a-z]+')"
      ],
      "metadata": {
        "id": "ZNI2MGUAtuuD"
      },
      "execution_count": 22,
      "outputs": []
    },
    {
      "cell_type": "code",
      "source": [
        "# match \n",
        "# python이 a-z 문자로만 이루어져서 객체를 돌려줌\n",
        "m = p.match(\"python\")\n",
        "print(m)\n"
      ],
      "metadata": {
        "colab": {
          "base_uri": "https://localhost:8080/"
        },
        "id": "DaVoFpYhturc",
        "outputId": "8af42a22-2a2e-4a99-cd62-cb8a94ad7672"
      },
      "execution_count": 4,
      "outputs": [
        {
          "output_type": "stream",
          "name": "stdout",
          "text": [
            "<re.Match object; span=(0, 6), match='python'>\n"
          ]
        }
      ]
    },
    {
      "cell_type": "code",
      "source": [
        "#숫자 3이 있어서 None이 나옴\n",
        "m = p.match(\"3 python\")\n",
        "print(m)"
      ],
      "metadata": {
        "colab": {
          "base_uri": "https://localhost:8080/"
        },
        "id": "1Y0UKzeptuo4",
        "outputId": "136ce4e7-928a-4a1d-8daa-2c7034b9c194"
      },
      "execution_count": 5,
      "outputs": [
        {
          "output_type": "stream",
          "name": "stdout",
          "text": [
            "None\n"
          ]
        }
      ]
    },
    {
      "cell_type": "code",
      "source": [
        "#match의 결과값이 있을 때만 그 다음 작업을 수행하겠다는 뜻\n",
        "p = re.compile('[a-zA-Z]')\n",
        "m = p.match('string gores here')\n",
        "if m :\n",
        "  print('Match found:', m.group)\n",
        "else:\n",
        "  print('No match')\n"
      ],
      "metadata": {
        "colab": {
          "base_uri": "https://localhost:8080/"
        },
        "id": "xedQM6L1tumK",
        "outputId": "90c9bc54-c0ac-445c-9f84-b2432a5fc892"
      },
      "execution_count": 16,
      "outputs": [
        {
          "output_type": "stream",
          "name": "stdout",
          "text": [
            "Match found: <built-in method group of re.Match object at 0x7f65294d79d0>\n"
          ]
        }
      ]
    },
    {
      "cell_type": "code",
      "source": [
        "#search \n",
        "m = p.search(\"python\")\n",
        "print(m)"
      ],
      "metadata": {
        "colab": {
          "base_uri": "https://localhost:8080/"
        },
        "id": "fUYhQvoL7I5a",
        "outputId": "58c9adb9-0fea-4ae9-e8cf-9b5aef69c140"
      },
      "execution_count": 17,
      "outputs": [
        {
          "output_type": "stream",
          "name": "stdout",
          "text": [
            "<re.Match object; span=(0, 1), match='p'>\n"
          ]
        }
      ]
    },
    {
      "cell_type": "code",
      "source": [
        "#3 이후의 python이라는 문자와 매치됨 \n",
        "m = p.search(\"3 python\")\n",
        "print(m)"
      ],
      "metadata": {
        "colab": {
          "base_uri": "https://localhost:8080/"
        },
        "id": "AH7o2JWU7I2O",
        "outputId": "11eb583c-bdbd-44db-be1c-547c5e4e472a"
      },
      "execution_count": 18,
      "outputs": [
        {
          "output_type": "stream",
          "name": "stdout",
          "text": [
            "<re.Match object; span=(2, 3), match='p'>\n"
          ]
        }
      ]
    },
    {
      "cell_type": "code",
      "source": [
        "#findall \n",
        "\n",
        "result = p.findall(\"life is too short\")\n",
        "print(result)"
      ],
      "metadata": {
        "colab": {
          "base_uri": "https://localhost:8080/"
        },
        "id": "PuG6YGai7IzV",
        "outputId": "c4134135-cafb-4cb3-805b-0feebc3eb5d7"
      },
      "execution_count": 24,
      "outputs": [
        {
          "output_type": "stream",
          "name": "stdout",
          "text": [
            "['life', 'is', 'too', 'short']\n"
          ]
        }
      ]
    },
    {
      "cell_type": "code",
      "source": [
        "result = p.finditer(\"life is too short\")\n",
        "print(result)\n",
        "\n",
        "for r in result : print(r)"
      ],
      "metadata": {
        "colab": {
          "base_uri": "https://localhost:8080/"
        },
        "id": "X1lWAPnV7IwM",
        "outputId": "ed6200d2-c2e8-424f-88a4-108b81272a58"
      },
      "execution_count": 25,
      "outputs": [
        {
          "output_type": "stream",
          "name": "stdout",
          "text": [
            "<callable_iterator object at 0x7f65294a26d0>\n",
            "<re.Match object; span=(0, 4), match='life'>\n",
            "<re.Match object; span=(5, 7), match='is'>\n",
            "<re.Match object; span=(8, 11), match='too'>\n",
            "<re.Match object; span=(12, 17), match='short'>\n"
          ]
        }
      ]
    },
    {
      "cell_type": "markdown",
      "source": [
        "# match 객체의 매서드 \n",
        "- group() : 매치된 문자열을 돌려준다 \n",
        "- start() : 매치된 문자열의 시작 위치를 돌려준다 \n",
        "- end(): 매치된 문자열의 끝 위치를 돌려준다 \n",
        "- span(): 매치된 문자열의 (시작, 끝)에 해당하는 튜플을 돌려준다"
      ],
      "metadata": {
        "id": "ZGzDv6Lo_cXz"
      }
    },
    {
      "cell_type": "code",
      "source": [
        "m = p.match(\"python\")\n",
        "m.group()\n",
        "#시작 위치를 튜플로 반환\n",
        "m.start()\n",
        "#끝 위치를 튜플로 반환\n",
        "m.end()\n",
        "#시작부터 끝까지 해당하는 위치를 튜플로 반환\n",
        "m.span()"
      ],
      "metadata": {
        "colab": {
          "base_uri": "https://localhost:8080/"
        },
        "id": "2R1TR1cj7ItE",
        "outputId": "da1e5f01-320f-4bca-ca0a-c55162d5e5ed"
      },
      "execution_count": 26,
      "outputs": [
        {
          "output_type": "execute_result",
          "data": {
            "text/plain": [
              "(0, 6)"
            ]
          },
          "metadata": {},
          "execution_count": 26
        }
      ]
    },
    {
      "cell_type": "code",
      "source": [
        "p = re.compile('[a-z]+')\n",
        "m = p.match(\"python\")\n",
        "\n",
        "#축약 버전 \n",
        "m = re.match('[a-z]+',\"python\")"
      ],
      "metadata": {
        "id": "v7G2zWhi7Ie8"
      },
      "execution_count": 28,
      "outputs": []
    },
    {
      "cell_type": "markdown",
      "source": [
        "# 컴파일 옵션 \n",
        "\n",
        "- DOTALL(S) : . 이 줄바꿈 문자를 포함하여 모든 문자와 매치할 수 있도록 한다.\n",
        "- IGNORECASE(I) : 대소문자에 관계없이 매치할 수 있도록 한다.\n",
        "- MULTILINE(M) : 여러줄과 매치할 수 있도록 한다. (^, $ 메타문자의 사용과 관계가 있는 옵션이다)\n",
        "- VERBOSE(X) : verbose 모드를 사용할 수 있도록 한다. (정규식을 보기 편하게 만들수 있고 주석등을 사용할 수 있게된다.)"
      ],
      "metadata": {
        "id": "HydtmRV7BpeS"
      }
    },
    {
      "cell_type": "code",
      "source": [
        "# \\n은 . 메타 문자와 매치되지 않기 때문에 None으로 나옴\n",
        "\n",
        "import re \n",
        "p = re.compile('a.b')\n",
        "m = p.match('a\\nb')\n",
        "print(m)\n"
      ],
      "metadata": {
        "colab": {
          "base_uri": "https://localhost:8080/"
        },
        "id": "XM7Ft8jak-9h",
        "outputId": "002c74c7-7050-4e60-9245-ab0e1005d4f2"
      },
      "execution_count": 29,
      "outputs": [
        {
          "output_type": "stream",
          "name": "stdout",
          "text": [
            "None\n"
          ]
        }
      ]
    },
    {
      "cell_type": "code",
      "source": [
        "#re.DOTALL 옵션은 여러줄로 이루어진 문자열에서 \\n에 상관없이 검색할 때 많이 사용함 \n",
        "p = re.compile('a.b', re.DOTALL)\n",
        "m = p.match('a\\nb')\n",
        "print(m)"
      ],
      "metadata": {
        "colab": {
          "base_uri": "https://localhost:8080/"
        },
        "id": "UBBo7tqVByMp",
        "outputId": "cd906639-f7fd-426c-920e-9e509c4575e6"
      },
      "execution_count": 31,
      "outputs": [
        {
          "output_type": "stream",
          "name": "stdout",
          "text": [
            "<re.Match object; span=(0, 3), match='a\\nb'>\n"
          ]
        }
      ]
    },
    {
      "cell_type": "code",
      "source": [
        "#re.IGNORECASE는 대소문자 구별없이 매치를 수행 \n",
        "\n",
        "p = re.compile('[a-z]', re.I)\n",
        "\n",
        "#모든 텍스트를 다 매치함\n",
        "p.match('python')\n",
        "p.match('Python')\n",
        "p.match('PYTHON')"
      ],
      "metadata": {
        "colab": {
          "base_uri": "https://localhost:8080/"
        },
        "id": "Y4pCNiHNByJy",
        "outputId": "d7320a12-3614-44f8-a52e-e3aba96359db"
      },
      "execution_count": 34,
      "outputs": [
        {
          "output_type": "execute_result",
          "data": {
            "text/plain": [
              "<re.Match object; span=(0, 1), match='P'>"
            ]
          },
          "metadata": {},
          "execution_count": 34
        }
      ]
    },
    {
      "cell_type": "code",
      "source": [
        "#MULTILINE \n",
        "\n",
        "import re\n",
        "p = re.compile(\"python\\s\\w+\")\n",
        "\n",
        "data = \"\"\"python one\n",
        "life is too short\n",
        "python two\n",
        "you need python\n",
        "python three\"\"\"\n",
        "\n",
        "print(p.findall(data))"
      ],
      "metadata": {
        "colab": {
          "base_uri": "https://localhost:8080/"
        },
        "id": "P9JRMdwFByHU",
        "outputId": "5cd6c197-00a3-4b74-955d-ac7ff234eddd"
      },
      "execution_count": 36,
      "outputs": [
        {
          "output_type": "stream",
          "name": "stdout",
          "text": [
            "['python one', 'python two', 'python\\npython']\n"
          ]
        }
      ]
    },
    {
      "cell_type": "code",
      "source": [
        "#re.MULTILINE 메타 문자를 각 라인의 처음으로 인식 시킴\n",
        "\n",
        "import re \n",
        "p = re.compile(\"^python\\s\\w+\",re.MULTILINE)\n",
        "\n",
        "data = \"\"\"python one\n",
        "life is too short\n",
        "python two\n",
        "you need python\n",
        "python three\"\"\"\n",
        "\n",
        "print(p.findall(data))"
      ],
      "metadata": {
        "colab": {
          "base_uri": "https://localhost:8080/"
        },
        "id": "z8fVCPyYByEo",
        "outputId": "70add0bb-a519-445f-c3e4-61acf78540fe"
      },
      "execution_count": 38,
      "outputs": [
        {
          "output_type": "stream",
          "name": "stdout",
          "text": [
            "['python one', 'python two', 'python three']\n"
          ]
        }
      ]
    },
    {
      "cell_type": "code",
      "source": [
        "charref = re.compile(r'&[#](0[0-7]+|[0-9]+|x[0-9a-fA-F]+);')"
      ],
      "metadata": {
        "id": "WN4e5rhCByCT"
      },
      "execution_count": 39,
      "outputs": []
    },
    {
      "cell_type": "code",
      "source": [
        "charref = re.compile(r\"\"\"\n",
        " &[#]                # Start of a numeric entity reference\n",
        " (\n",
        "     0[0-7]+         # Octal form\n",
        "   | [0-9]+          # Decimal form\n",
        "   | x[0-9a-fA-F]+   # Hexadecimal form\n",
        " )\n",
        " ;                   # Trailing semicolon\n",
        "\"\"\", re.VERBOSE)\n"
      ],
      "metadata": {
        "id": "RGbd82lBkVwq"
      },
      "execution_count": 40,
      "outputs": []
    },
    {
      "cell_type": "markdown",
      "source": [
        "# 문자열 처리 "
      ],
      "metadata": {
        "id": "2VG5eYNeEWc3"
      }
    },
    {
      "cell_type": "code",
      "source": [
        "#인덱싱 \n",
        "a = 'power'\n",
        "a[1]\n"
      ],
      "metadata": {
        "colab": {
          "base_uri": "https://localhost:8080/",
          "height": 35
        },
        "id": "nzPU1scLK9Q2",
        "outputId": "e5b3c87a-75eb-424a-cb5e-9e33eaabe661"
      },
      "execution_count": 41,
      "outputs": [
        {
          "output_type": "execute_result",
          "data": {
            "application/vnd.google.colaboratory.intrinsic+json": {
              "type": "string"
            },
            "text/plain": [
              "'o'"
            ]
          },
          "metadata": {},
          "execution_count": 41
        }
      ]
    },
    {
      "cell_type": "code",
      "source": [
        "a[1:3]"
      ],
      "metadata": {
        "colab": {
          "base_uri": "https://localhost:8080/",
          "height": 35
        },
        "id": "26DTqHRyLDe2",
        "outputId": "10a138a2-759f-404c-d1a6-4d6062e4b7e9"
      },
      "execution_count": 43,
      "outputs": [
        {
          "output_type": "execute_result",
          "data": {
            "application/vnd.google.colaboratory.intrinsic+json": {
              "type": "string"
            },
            "text/plain": [
              "'ow'"
            ]
          },
          "metadata": {},
          "execution_count": 43
        }
      ]
    },
    {
      "cell_type": "code",
      "source": [
        "#for 문으로 표현하기 \n",
        "\n",
        "for s in a:\n",
        "  print(s)"
      ],
      "metadata": {
        "colab": {
          "base_uri": "https://localhost:8080/"
        },
        "id": "SubqxfKgLJB9",
        "outputId": "1e7628f3-308f-4e3c-c943-44988e262efa"
      },
      "execution_count": 44,
      "outputs": [
        {
          "output_type": "stream",
          "name": "stdout",
          "text": [
            "p\n",
            "o\n",
            "w\n",
            "e\n",
            "r\n"
          ]
        }
      ]
    },
    {
      "cell_type": "code",
      "source": [
        "#문자 바꾸기 : replace\n",
        "a = \"good morning\"\n",
        "a.replace(\"morning\", \"afternoon\")"
      ],
      "metadata": {
        "colab": {
          "base_uri": "https://localhost:8080/",
          "height": 35
        },
        "id": "meztm19zLRLV",
        "outputId": "8e8107dc-18d7-43a7-92f4-81f782b5422d"
      },
      "execution_count": 45,
      "outputs": [
        {
          "output_type": "execute_result",
          "data": {
            "application/vnd.google.colaboratory.intrinsic+json": {
              "type": "string"
            },
            "text/plain": [
              "'good afternoon'"
            ]
          },
          "metadata": {},
          "execution_count": 45
        }
      ]
    },
    {
      "cell_type": "code",
      "source": [
        "#문자열 나누기 \n",
        "a = \"shine...shine\"\n",
        "a.split('...')"
      ],
      "metadata": {
        "colab": {
          "base_uri": "https://localhost:8080/"
        },
        "id": "7GWSzJNCLjJA",
        "outputId": "5e29332a-6656-4ea9-9217-e63312e5dc53"
      },
      "execution_count": 46,
      "outputs": [
        {
          "output_type": "execute_result",
          "data": {
            "text/plain": [
              "['shine', 'shine']"
            ]
          },
          "metadata": {},
          "execution_count": 46
        }
      ]
    },
    {
      "cell_type": "code",
      "source": [
        "#한글자로 나누어 저장하기 \n",
        "#list로 저장하면 된다\n",
        "a = 'shine'\n",
        "list(a)"
      ],
      "metadata": {
        "colab": {
          "base_uri": "https://localhost:8080/"
        },
        "id": "JKLm5n0YLty5",
        "outputId": "c5b1bf44-0b69-41e0-fa7b-24a13995b7c8"
      },
      "execution_count": 47,
      "outputs": [
        {
          "output_type": "execute_result",
          "data": {
            "text/plain": [
              "['s', 'h', 'i', 'n', 'e']"
            ]
          },
          "metadata": {},
          "execution_count": 47
        }
      ]
    },
    {
      "cell_type": "code",
      "source": [
        "#대문자로 바꾸기 \n",
        "a = 'power'\n",
        "a.upper()"
      ],
      "metadata": {
        "colab": {
          "base_uri": "https://localhost:8080/",
          "height": 35
        },
        "id": "mBKqDY1IL0DA",
        "outputId": "e58436c5-620f-4f5a-b384-f69c423cbf60"
      },
      "execution_count": 49,
      "outputs": [
        {
          "output_type": "execute_result",
          "data": {
            "application/vnd.google.colaboratory.intrinsic+json": {
              "type": "string"
            },
            "text/plain": [
              "'POWER'"
            ]
          },
          "metadata": {},
          "execution_count": 49
        }
      ]
    },
    {
      "cell_type": "code",
      "source": [
        "#소문자로 바꾸기 \n",
        "b = 'BUS'\n",
        "b.lower()"
      ],
      "metadata": {
        "colab": {
          "base_uri": "https://localhost:8080/",
          "height": 35
        },
        "id": "K0KzXFUuL4eu",
        "outputId": "ffd2c7f3-69a5-448a-c79e-fbf9914b86fa"
      },
      "execution_count": 52,
      "outputs": [
        {
          "output_type": "execute_result",
          "data": {
            "application/vnd.google.colaboratory.intrinsic+json": {
              "type": "string"
            },
            "text/plain": [
              "'bus'"
            ]
          },
          "metadata": {},
          "execution_count": 52
        }
      ]
    },
    {
      "cell_type": "code",
      "source": [
        "#공백 지우기 \n",
        "a = 'power    '\n",
        "a.strip()"
      ],
      "metadata": {
        "colab": {
          "base_uri": "https://localhost:8080/",
          "height": 35
        },
        "id": "Nx2dtffTL-0V",
        "outputId": "fab440a4-1e7e-4161-b92f-4918e400bfbb"
      },
      "execution_count": 53,
      "outputs": [
        {
          "output_type": "execute_result",
          "data": {
            "application/vnd.google.colaboratory.intrinsic+json": {
              "type": "string"
            },
            "text/plain": [
              "'power'"
            ]
          },
          "metadata": {},
          "execution_count": 53
        }
      ]
    },
    {
      "cell_type": "code",
      "source": [
        "#왼쪽 공백 지우기 \n",
        "a.lstrip()\n",
        "\n",
        "#오른쪽 공백 지우기 \n",
        "a.rstrip()"
      ],
      "metadata": {
        "colab": {
          "base_uri": "https://localhost:8080/",
          "height": 35
        },
        "id": "eXcI8TBUMDlW",
        "outputId": "d4fde1c8-cc18-469e-aed1-960f17f4707e"
      },
      "execution_count": 55,
      "outputs": [
        {
          "output_type": "execute_result",
          "data": {
            "application/vnd.google.colaboratory.intrinsic+json": {
              "type": "string"
            },
            "text/plain": [
              "'power'"
            ]
          },
          "metadata": {},
          "execution_count": 55
        }
      ]
    }
  ]
}