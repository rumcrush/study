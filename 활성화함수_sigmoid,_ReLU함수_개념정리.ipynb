{
  "nbformat": 4,
  "nbformat_minor": 0,
  "metadata": {
    "colab": {
      "name": "활성화함수_sigmoid, ReLU함수_개념정리.ipynb",
      "provenance": [],
      "collapsed_sections": [],
      "authorship_tag": "ABX9TyOezeGNUG1XYSBmdpvNZEpL",
      "include_colab_link": true
    },
    "kernelspec": {
      "name": "python3",
      "display_name": "Python 3"
    },
    "language_info": {
      "name": "python"
    }
  },
  "cells": [
    {
      "cell_type": "markdown",
      "metadata": {
        "id": "view-in-github",
        "colab_type": "text"
      },
      "source": [
        "<a href=\"https://colab.research.google.com/github/rumcrush/study/blob/master/%ED%99%9C%EC%84%B1%ED%99%94%ED%95%A8%EC%88%98_sigmoid%2C_ReLU%ED%95%A8%EC%88%98_%EA%B0%9C%EB%85%90%EC%A0%95%EB%A6%AC.ipynb\" target=\"_parent\"><img src=\"https://colab.research.google.com/assets/colab-badge.svg\" alt=\"Open In Colab\"/></a>"
      ]
    },
    {
      "cell_type": "markdown",
      "source": [
        "## 활성화 함수\n",
        "\n",
        "> 입력된 데이터의 가중 합을 출력 신호로 변환하는 함수. 신경망의 목적, 레이어의 역할에 따라 선택적으로 적용.(활성화, 비 활성화를 결정) \n",
        "\n",
        "> 구조 : 노드에 입력된 비선형 함수에 통과 -> 다음 다음 레이어에 전달\n",
        "\n",
        "> 비선형 함수를 사용하는 이유? 딥러닝 모델의 레이어 층을 선형함수보다 깊게 가져갈 수 있기 때문. \n",
        "\n",
        "\n",
        "\n",
        "종류 : sigmoid, ReLU 등이 있음 \n",
        "\n",
        "\n",
        "\n",
        "\n",
        "## 1.sigmoid 함수 \n",
        "1) Logisitc 함수\n",
        "\n",
        "2) x의 값에 따라 0~1사이의 값을 출력\n",
        "\n",
        "3) S자 형태를 지님\n",
        "\n",
        "4) 입력받는 x값이 커질수록 미분값이 소실될 가능성이 크다 \n",
        "\n",
        "5) 모든 실수값을 0보다 크고, 1보다 작은 미분 가능한 수로 변환하는 특징 \n",
        "\n",
        "\n",
        "\n",
        "## 2.LeRU함수 \n",
        "1) 가장 많이 사용되는 활성화 함수 \n",
        "\n",
        "2) 장점 : sigmoid함수 보다 학습이 빠르고, 연산 비용이 적고 구현이 간단하다 \n",
        "\n",
        "3) 입력값 x가 0보다 크면 기울기가 1\n",
        "\n",
        "4) 입력값 x가 0보다 작으면 함수값이 0이 됨\n",
        "\n",
        "5) 단점 : 0보다 작은 값일 경우 뉴런이 죽을 수 있다 \n"
      ],
      "metadata": {
        "id": "CQ85OzfG2oi_"
      }
    }
  ]
}