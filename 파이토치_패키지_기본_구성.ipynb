{
  "nbformat": 4,
  "nbformat_minor": 0,
  "metadata": {
    "colab": {
      "name": "파이토치 패키지 기본 구성.ipynb",
      "provenance": [],
      "authorship_tag": "ABX9TyM1jjEBZy7QPfoe3DbSQIWu",
      "include_colab_link": true
    },
    "kernelspec": {
      "name": "python3",
      "display_name": "Python 3"
    },
    "language_info": {
      "name": "python"
    }
  },
  "cells": [
    {
      "cell_type": "markdown",
      "metadata": {
        "id": "view-in-github",
        "colab_type": "text"
      },
      "source": [
        "<a href=\"https://colab.research.google.com/github/rumcrush/study/blob/master/%ED%8C%8C%EC%9D%B4%ED%86%A0%EC%B9%98_%ED%8C%A8%ED%82%A4%EC%A7%80_%EA%B8%B0%EB%B3%B8_%EA%B5%AC%EC%84%B1.ipynb\" target=\"_parent\"><img src=\"https://colab.research.google.com/assets/colab-badge.svg\" alt=\"Open In Colab\"/></a>"
      ]
    },
    {
      "cell_type": "markdown",
      "source": [
        "# 1. 파이토치 패키지 기본 구성"
      ],
      "metadata": {
        "id": "6G7Y3m1fCcH5"
      }
    },
    {
      "cell_type": "markdown",
      "source": [
        "## 1) import torch"
      ],
      "metadata": {
        "id": "U2bSkYyJD1Jq"
      }
    },
    {
      "cell_type": "code",
      "execution_count": null,
      "metadata": {
        "id": "1t_T3qoNCbT1"
      },
      "outputs": [],
      "source": [
        "import torch "
      ]
    },
    {
      "cell_type": "markdown",
      "source": [
        "1) 메인 네임 스페이스 \n",
        "\n",
        "2) 텐서 등 다양한 수학 함수가 포함되어 있지 않음 \n",
        "\n",
        "3) Numpy와 유사한 구조를 가짐 \n",
        "\n",
        "* 네임 스페이스 : 개체를 구분할 수 있는 범위"
      ],
      "metadata": {
        "id": "lM-rd6ZiCt5v"
      }
    },
    {
      "cell_type": "markdown",
      "source": [
        "## 2) import torch.autograd"
      ],
      "metadata": {
        "id": "sTcLc3yFD6EL"
      }
    },
    {
      "cell_type": "code",
      "source": [
        "import torch.autograd"
      ],
      "metadata": {
        "id": "AWnJihmnC8GM"
      },
      "execution_count": null,
      "outputs": []
    },
    {
      "cell_type": "markdown",
      "source": [
        "1) 자동 미분을 위한 함수들이 포함된 패키지 \n",
        "\n",
        "2) 자동 미분의 on/off를 제어하는 콘텍스트 매니저(enable_grad / no_grad)나 자체 미분 가능 함수를 정의 할 때 사용하는 기반 클래스인 'Function'이 포함됨\n",
        "\n",
        "* 콘텍스트 매니저 : 원하는 타이밍에 정확하게 리소스를 할당하고 제공하는 역할 \n"
      ],
      "metadata": {
        "id": "9AKT8J7yC-Y8"
      }
    },
    {
      "cell_type": "code",
      "source": [
        "# 콘텍스트 매니저 예시 \n",
        "\n",
        "with open('열고자하는 파일','w') as opend_file:\n",
        "  opend_file.write('Hola')"
      ],
      "metadata": {
        "id": "IuVvh6LVDQHl"
      },
      "execution_count": null,
      "outputs": []
    },
    {
      "cell_type": "markdown",
      "source": [
        "## 3) import torch.nn"
      ],
      "metadata": {
        "id": "Dz4pqYDhD9Pa"
      }
    },
    {
      "cell_type": "code",
      "source": [
        "import torch.nn"
      ],
      "metadata": {
        "id": "9I-R1yU-DcQq"
      },
      "execution_count": null,
      "outputs": []
    },
    {
      "cell_type": "markdown",
      "source": [
        "1) 신경망 구축을 위한 다양한 데이터 구조, 레이어가 정의됨 \n",
        "\n",
        "2) 레이어 : RNN, LSTM 등\n",
        "\n",
        "3) 활성화 함수 : sigmoid, ReLU 등\n",
        "\n",
        "4) 손실 함수 : MSELoss 등"
      ],
      "metadata": {
        "id": "B1bESiyGDaou"
      }
    },
    {
      "cell_type": "markdown",
      "source": [
        "## 4) import torch.optim "
      ],
      "metadata": {
        "id": "EZ1XOiuXDui7"
      }
    },
    {
      "cell_type": "code",
      "source": [
        "import torch.optim "
      ],
      "metadata": {
        "id": "l_fZiiQgDvuL"
      },
      "execution_count": null,
      "outputs": []
    },
    {
      "cell_type": "markdown",
      "source": [
        "1) 확률적 경사하강법을 중심으로한 파라미터 최적화 알고리즘이 구현됨"
      ],
      "metadata": {
        "id": "eZZOVQAlEICy"
      }
    },
    {
      "cell_type": "markdown",
      "source": [
        "## 5) import torch.utils.data"
      ],
      "metadata": {
        "id": "QIBzOOhXENkX"
      }
    },
    {
      "cell_type": "code",
      "source": [
        "import torch.utils.data"
      ],
      "metadata": {
        "id": "9S0N4zhsERaQ"
      },
      "execution_count": null,
      "outputs": []
    },
    {
      "cell_type": "markdown",
      "source": [
        "1) 확률적 경사하강법의 반복 연산을 실행할 때 사용하는 미니 배치용 유틸리티 함수가 포함 됨"
      ],
      "metadata": {
        "id": "JdRR_ZF-ESvX"
      }
    },
    {
      "cell_type": "markdown",
      "source": [
        "## 6) import torch.onnx"
      ],
      "metadata": {
        "id": "i2WBy69DEbpA"
      }
    },
    {
      "cell_type": "code",
      "source": [
        "import torch.onnx"
      ],
      "metadata": {
        "id": "JDPcnbEIEa_O"
      },
      "execution_count": null,
      "outputs": []
    },
    {
      "cell_type": "markdown",
      "source": [
        "1) ONNX (open neural network exchange)는 서로 다른 딥러닝 프레임워크 간에 모델을 공유할 때 \n",
        "사용하는 포맷\n",
        "\n",
        "2) ONNX 포맷으로 모델을 export 할 때 사용 "
      ],
      "metadata": {
        "id": "O4rwtQKnEgfN"
      }
    }
  ]
}