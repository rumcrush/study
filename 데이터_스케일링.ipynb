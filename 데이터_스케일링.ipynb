{
  "nbformat": 4,
  "nbformat_minor": 0,
  "metadata": {
    "colab": {
      "name": "데이터 스케일링.ipynb",
      "provenance": [],
      "authorship_tag": "ABX9TyOYAzqBWYcS7OJSP5qgzpYh",
      "include_colab_link": true
    },
    "kernelspec": {
      "name": "python3",
      "display_name": "Python 3"
    },
    "language_info": {
      "name": "python"
    }
  },
  "cells": [
    {
      "cell_type": "markdown",
      "metadata": {
        "id": "view-in-github",
        "colab_type": "text"
      },
      "source": [
        "<a href=\"https://colab.research.google.com/github/rumcrush/study/blob/master/%EB%8D%B0%EC%9D%B4%ED%84%B0_%EC%8A%A4%EC%BC%80%EC%9D%BC%EB%A7%81.ipynb\" target=\"_parent\"><img src=\"https://colab.research.google.com/assets/colab-badge.svg\" alt=\"Open In Colab\"/></a>"
      ]
    },
    {
      "cell_type": "markdown",
      "source": [
        "# 데이터 스케일링 \n",
        "## 전처리 과정 중 하나 \n",
        "### 목적 \n",
        "데이터 값이 너무 크거나 작을 때 모델 알고리즘 학습 과정에서 0으로 수렴하거나 무한으로 발산하는 것을 방지하기 위해\n",
        "\n",
        "특성별로 데이터 스케일이 다르면 머신러닝이 잘 동작하지 않을 수 있음 \n",
        "\n",
        "따라서 스케일링 작업을 통해 모든 특성의 범위를 같게 만들어야 함"
      ],
      "metadata": {
        "id": "6Vw1SZmhTyc2"
      }
    },
    {
      "cell_type": "markdown",
      "source": [
        "# Standard Scaler (표준화\n",
        "### 각 feature의 평균을 0, 분산을 1로 변경 \n",
        "### 모든 특성들이 같은 스케일을 가짐\n",
        "### 최소값과 최대값의 크기를 제한하지 않아서 어떤 알고리즘에서는 문제가 있을 수 있음 \n",
        "### 이상치에 매우 민감함 \n",
        "### 회귀보다 분류 모델에 유용함 "
      ],
      "metadata": {
        "id": "E-q2jvgUUB_B"
      }
    },
    {
      "cell_type": "markdown",
      "source": [
        "# Robust Scaler \n",
        "### 모든 특성들이 같은 크기를 가짐 \n",
        "### 평균과 분산 대신 중간값과 사분위값을 사용\n",
        "### 이상치 영향을 최소화 할 수 있음 "
      ],
      "metadata": {
        "id": "rH3KYVlqUN4V"
      }
    },
    {
      "cell_type": "markdown",
      "source": [
        "# MinMaxScaler\n",
        "### 모든 feature가 0과 1사이에 위치하게 만듬\n",
        "### 데이터가 2차원일 경우 모든 데이터는 x축의 0과 1사이에, y축의 0과 1사이에 위치\n",
        "### 이상치에 민감함 \n",
        "### 분류보다 회귀에 유용함"
      ],
      "metadata": {
        "id": "mnyegCDpUZSk"
      }
    },
    {
      "cell_type": "markdown",
      "source": [
        "# Nomalizer\n",
        "### row마다 각각 정규화 \n",
        "### 모델 내 학습 벡터에 적용 \n",
        "### 피처들이 다른 단위면 사용 하지 않음\n",
        "### 유클리드 거리가 1이 되도록 데이터를 조정 \n",
        "* 유클리드 거리 : 두 점 사이의 거리를 계산할 때 쓰는 방법"
      ],
      "metadata": {
        "id": "n3TTXIX_Uml_"
      }
    }
  ]
}