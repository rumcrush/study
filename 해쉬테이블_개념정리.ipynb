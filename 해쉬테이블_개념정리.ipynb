{
  "nbformat": 4,
  "nbformat_minor": 0,
  "metadata": {
    "colab": {
      "name": "해쉬테이블_개념정리.ipynb",
      "provenance": [],
      "collapsed_sections": [],
      "authorship_tag": "ABX9TyNu5pKjWAbKKOBsb1gQhWaF",
      "include_colab_link": true
    },
    "kernelspec": {
      "name": "python3",
      "display_name": "Python 3"
    },
    "language_info": {
      "name": "python"
    }
  },
  "cells": [
    {
      "cell_type": "markdown",
      "metadata": {
        "id": "view-in-github",
        "colab_type": "text"
      },
      "source": [
        "<a href=\"https://colab.research.google.com/github/rumcrush/study/blob/master/%ED%95%B4%EC%89%AC%ED%85%8C%EC%9D%B4%EB%B8%94_%EA%B0%9C%EB%85%90%EC%A0%95%EB%A6%AC.ipynb\" target=\"_parent\"><img src=\"https://colab.research.google.com/assets/colab-badge.svg\" alt=\"Open In Colab\"/></a>"
      ]
    },
    {
      "cell_type": "markdown",
      "source": [
        "# 해쉬테이블 \n",
        "- ### F(key,해쉬 함수) -> Hash code -> Index -> Value\n",
        "- ### 검색하고자 하는 key값을 입력 받음 \n",
        "- ### 해쉬(Hash)함수를 돌려서 해쉬 코드를(Hash Code) 반환받음 \n",
        "- ### 반환받은 해쉬코드를 배열의 인덱스로 환산 후 데이터에 접근하는 방식의 자료구조\n",
        "\n",
        "> 여기서 key값은 문자, 숫자, 파일 데이터가 될 수 있다\n",
        "\n",
        "> 해쉬 함수는 특정한 규칙을 사용, 입력받은 key값으로 그 key값의 용량에 상관 없이 동일한 해쉬코드를 만든다\n",
        "\n",
        "> 입력데이터가 완벽하게 일치 해야하만 동일한 해쉬코드를 만들어 낼 수 있다\n",
        "\n",
        "> 장점 : 검색 속도가 매우 빠름 (사유 : 해시 코드 그 자체로 바로 데이터에 접근하기 때문. 검색 안 함) \n",
        "\n",
        "> 한 배열에 데이터가 몰리는 경우가 생김. (colison(충돌)이 일어난다고 함) "
      ],
      "metadata": {
        "id": "jDQdnLDdQdWo"
      }
    },
    {
      "cell_type": "markdown",
      "source": [
        "# hash code 얻기(key) \n",
        "\n",
        "ASCII코드 + ASCII코드 + ASCII코드 = Hash code 완성\n",
        "\n",
        "* sung \n",
        "\n",
        "s(115) + u(117) + n(110) + g(103) = 445\n",
        "\n",
        "* jin \n",
        "\n",
        "j(106) +i(105)+n(110) = 321\n",
        "\n",
        "* hee\n",
        "\n",
        "h(104) + e(101) + e(101) = 306\n",
        "\n",
        "* min \n",
        "\n",
        "m(109) + i(105) + n(110) =324"
      ],
      "metadata": {
        "id": "E8g1YesPS4Re"
      }
    },
    {
      "cell_type": "markdown",
      "source": [
        ""
      ],
      "metadata": {
        "id": "0x2xu4NzTBSv"
      }
    },
    {
      "cell_type": "markdown",
      "source": [
        "# 해시 테이블 \n",
        "어떤 고정된 테이블을 만들고 그 위치에 값을 가져다 넣는 것 \n",
        "\n",
        "* 필수조건 : 고정된 크기의 배열을 선언하기\n",
        "\n",
        "* 배열 번호는 만든 해쉬코드 값을 인덱스로 환산 \n",
        "\n",
        "\n",
        "예) 445 % 3 = 1\n",
        "\n",
        "321 % 3 = 0 \n",
        "\n",
        "306 % 3 = 0 \n",
        "\n",
        "324 % 3 = 0 "
      ],
      "metadata": {
        "id": "iWzmp4grThGz"
      }
    },
    {
      "cell_type": "markdown",
      "source": [
        "# 해시를 사용해야 할 때 \n",
        "\n",
        "## 1. 리스트를 쓸 수 없을 때 \n",
        "## 2. 빠른 접근 / 탐색이 필요 할 때 \n",
        "## 3. 집계가 필요할 때"
      ],
      "metadata": {
        "id": "Rt4GCIdvUZXn"
      }
    },
    {
      "cell_type": "markdown",
      "source": [
        "# 파이썬으로 해시 테이블 구현"
      ],
      "metadata": {
        "id": "w6sFx4O0UVYZ"
      }
    },
    {
      "cell_type": "code",
      "source": [
        "class Hashtable:\n",
        "  \n",
        "  def __init__(self):\n",
        "    self.table = [None for _ in range(139)]\n",
        "  \n",
        "  def simple_hash(self, name):\n",
        "    ord_sum = 0 \n",
        "    for letter in name:\n",
        "      ord_sum += ord(letter)\n",
        "    return ord_sum % len(self.table)\n",
        "\n",
        "  def put(self, name, num):\n",
        "    self.table[self.simple_hash(name)] = num \n",
        "  \n",
        "  def show(self):\n",
        "    for idx, value in enumerate(self.table):\n",
        "      if value:\n",
        "        print(idx, value)\n",
        "  \n",
        "  def find(self, name):\n",
        "    return self.table[self.simple_hash(name)]\n",
        "  \n",
        "  # 호너의 룰을 사용하여 개선 \n",
        "  # 호너의 룰 : 다항식을 표현하는 방법. 반복적으로 숫자를 곱한 뒤 더하는 방법 \n",
        "\n",
        "  def better_hash(self, name):\n",
        "    honer = 37\n",
        "    ord_sum = 0 \n",
        "    for letter in name:\n",
        "      ord_sum = ord_sum * honer + ord(letter)\n",
        "    return ord_sum % len(self.table)"
      ],
      "metadata": {
        "id": "zPtrhn1OjaIq"
      },
      "execution_count": 24,
      "outputs": []
    },
    {
      "cell_type": "code",
      "source": [
        "boo = Hashtable()\n",
        "boo.put('Kim',7458)\n",
        "boo.put('John',8569)\n",
        "boo.put('Smith', 1452)\n",
        "boo.put('Michael', 2563)\n",
        "boo.put('Raymond', 1598)\n",
        "boo.put('Clayton',7532)\n",
        "\n",
        "print(boo.find('Kim'))\n",
        "print(boo.find('John'))\n",
        "print(boo.find('Smith'))\n",
        "print(boo.find('Michael'))\n",
        "print(boo.find('Raymond'))\n",
        "print(boo.find('Clayton'))\n",
        "\n",
        "#Raymond와 Clayton이 같은 해시값을 가져서 Raymond 번호가 사라짐 "
      ],
      "metadata": {
        "colab": {
          "base_uri": "https://localhost:8080/"
        },
        "id": "ihxJVKOuj_l8",
        "outputId": "d4fe05a2-4277-418e-f15f-779114ac4f57"
      },
      "execution_count": 27,
      "outputs": [
        {
          "output_type": "stream",
          "name": "stdout",
          "text": [
            "7458\n",
            "8569\n",
            "1452\n",
            "2563\n",
            "7532\n",
            "7532\n"
          ]
        }
      ]
    },
    {
      "cell_type": "code",
      "source": [
        "#hashlib 라이브러리 사용 \n",
        "\n",
        "import hashlib\n",
        "\n",
        "h = hashlib.sha256()\n",
        "h.update(b'Kim')\n",
        "result = h.hexdigest()\n",
        "print(result)\n",
        "\n"
      ],
      "metadata": {
        "colab": {
          "base_uri": "https://localhost:8080/"
        },
        "id": "ygAtyydZkP5E",
        "outputId": "ac34736c-3b63-4c0a-c053-fac6c06d755f"
      },
      "execution_count": 30,
      "outputs": [
        {
          "output_type": "stream",
          "name": "stdout",
          "text": [
            "d25949ef9e762fe7cfb9cc5d125e8a7bbca56662abc51b9d0dc0d2265aa28dce\n"
          ]
        }
      ]
    },
    {
      "cell_type": "code",
      "source": [
        " # 빈 딕셔너리 생성 \n",
        " dict1 = {}\n",
        " dict2 = dict()"
      ],
      "metadata": {
        "id": "Z3ofgpWnR8mz"
      },
      "execution_count": null,
      "outputs": []
    },
    {
      "cell_type": "code",
      "execution_count": null,
      "metadata": {
        "colab": {
          "base_uri": "https://localhost:8080/"
        },
        "id": "rnPwXwCUQZKs",
        "outputId": "d067ed1c-b13f-4cdc-fd35-2020eea0fc86"
      },
      "outputs": [
        {
          "output_type": "execute_result",
          "data": {
            "text/plain": [
              "{'height': 80, 'name': '하늘이', 'weight': 4}"
            ]
          },
          "metadata": {},
          "execution_count": 4
        }
      ],
      "source": [
        "# 특정 key, value를 가진 딕셔너리 선언 \n",
        "\n",
        "Dog = {\n",
        "    'name' : '하늘이',\n",
        "    'weight' : 4,\n",
        "    'height' : 80\n",
        "}\n",
        "\n",
        "Dog"
      ]
    },
    {
      "cell_type": "code",
      "source": [
        "# dictionary를 value로 가지는 dictionary 선언 \n",
        "\n",
        "Animals = {\n",
        "    'Dog' : {\n",
        "        'name' : \"하늘이\",\n",
        "        'age' : '5'\n",
        "    },\n",
        "    'Cat' : {\n",
        "        'name' : \"까미\",\n",
        "        'age' : '10',\n",
        "    }\n",
        "}\n",
        "\n",
        "Animals"
      ],
      "metadata": {
        "colab": {
          "base_uri": "https://localhost:8080/"
        },
        "id": "hyn6Al5bR1WH",
        "outputId": "d54e14ac-7db9-4810-fbca-9a46ac3d13f1"
      },
      "execution_count": null,
      "outputs": [
        {
          "output_type": "execute_result",
          "data": {
            "text/plain": [
              "{'Cat': {'age': '10', 'name': '까미'}, 'Dog': {'age': '5', 'name': '하늘이'}}"
            ]
          },
          "metadata": {},
          "execution_count": 6
        }
      ]
    },
    {
      "cell_type": "markdown",
      "source": [
        "# Dictionary에서 원소 가져오기\n",
        "1. [      ] 사용하기 \n",
        "2. get 메소드 사용하기"
      ],
      "metadata": {
        "id": "gtErR_U9RHxE"
      }
    },
    {
      "cell_type": "code",
      "source": [
        "# [] 기호 사용 \n",
        "dict = {'하이' : 300, '곤니찌와': 200, 3:5}\n",
        "dict['곤니찌와']"
      ],
      "metadata": {
        "colab": {
          "base_uri": "https://localhost:8080/"
        },
        "id": "p92tfXSLREcq",
        "outputId": "7f0583dd-8eab-417d-dfe8-91ad38357e84"
      },
      "execution_count": null,
      "outputs": [
        {
          "output_type": "execute_result",
          "data": {
            "text/plain": [
              "200"
            ]
          },
          "metadata": {},
          "execution_count": 9
        }
      ]
    },
    {
      "cell_type": "code",
      "source": [
        "#get메소드 사용 \n",
        "dict = {'하이':500, '헬로':100}\n",
        "dict.get('헬로')"
      ],
      "metadata": {
        "colab": {
          "base_uri": "https://localhost:8080/"
        },
        "id": "Ni8DmjxGV4KU",
        "outputId": "e7c3b6a7-6021-4791-ae12-754f9f574e79"
      },
      "execution_count": null,
      "outputs": [
        {
          "output_type": "execute_result",
          "data": {
            "text/plain": [
              "100"
            ]
          },
          "metadata": {},
          "execution_count": 11
        }
      ]
    },
    {
      "cell_type": "markdown",
      "source": [
        "# set \n",
        "딕셔너리에 값을 넣거니 값을 업데이트 할 때 사용"
      ],
      "metadata": {
        "id": "hS4KTE82Wa5Q"
      }
    },
    {
      "cell_type": "code",
      "source": [
        "#값을 넣기\n",
        "oec = {'정진솔':500, '최예림':600}\n",
        "oec['김립'] = 250 \n",
        "\n",
        "oec"
      ],
      "metadata": {
        "colab": {
          "base_uri": "https://localhost:8080/"
        },
        "id": "awXNGvDsWeHI",
        "outputId": "49fb5a46-734c-4ff9-a5e4-6e6dca1acb48"
      },
      "execution_count": null,
      "outputs": [
        {
          "output_type": "execute_result",
          "data": {
            "text/plain": [
              "{'김립': 250, '정진솔': 500, '최예림': 600}"
            ]
          },
          "metadata": {},
          "execution_count": 13
        }
      ]
    },
    {
      "cell_type": "code",
      "source": [
        "#값을 수정하기 \n",
        "oec = {'정진솔':500, '최예림':600}\n",
        "oec['정진솔'] = 700\n",
        "oec"
      ],
      "metadata": {
        "colab": {
          "base_uri": "https://localhost:8080/"
        },
        "id": "ToxKYWxaWx0O",
        "outputId": "f3375d01-3cbd-4c52-df1a-0f7e0f81e282"
      },
      "execution_count": null,
      "outputs": [
        {
          "output_type": "execute_result",
          "data": {
            "text/plain": [
              "{'정진솔': 700, '최예림': 600}"
            ]
          },
          "metadata": {},
          "execution_count": 15
        }
      ]
    },
    {
      "cell_type": "code",
      "source": [
        "# 완주하지 못한 선수 \n",
        "# https://programmers.co.kr/learn/courses/30/lessons/72410\n",
        "def solution(participant, completion):\n",
        "    hash = {}\n",
        "    for i in participant:\n",
        "        if i in hash:\n",
        "            hash[i] += 1\n",
        "        else:\n",
        "            hash[i] = 1\n",
        "    for i in completion:\n",
        "        if hash[i] == 1:\n",
        "            del hash[i]\n",
        "        else:\n",
        "            hash[i] -= 1\n",
        "    answer = list(hash.keys())[0]\n",
        "    return answer\n"
      ],
      "metadata": {
        "id": "jRHH_v3bZJWh"
      },
      "execution_count": null,
      "outputs": []
    },
    {
      "cell_type": "code",
      "source": [
        "# 위장\n",
        "# https://programmers.co.kr/learn/courses/30/lessons/42578\n",
        "def solution(clothes):\n",
        "    closet = dict()\n",
        "    num_category = []\n",
        "    answer = 1 \n",
        "    \n",
        "    for name, category in clothes:\n",
        "        if category in closet:\n",
        "            closet[category].append(name)\n",
        "        else:\n",
        "            closet[category] = [name]\n",
        "    \n",
        "    for key in closet.keys():\n",
        "        num_category.append(len(closet[key]))\n",
        "        \n",
        "    for i in num_category:\n",
        "        answer *= (i+1)\n",
        "    answer -= 1\n",
        "    \n",
        "    return answer\n"
      ],
      "metadata": {
        "id": "7ZCfZT9WbeHG"
      },
      "execution_count": null,
      "outputs": []
    }
  ]
}